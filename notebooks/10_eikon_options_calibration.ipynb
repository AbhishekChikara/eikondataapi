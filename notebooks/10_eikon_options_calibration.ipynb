{
 "cells": [
  {
   "cell_type": "markdown",
   "metadata": {},
   "source": [
    "<img src=\"http://hilpisch.com/images/tr_logo_long.png\" width=\"40%\" align=\"left\" style=\"vertical-align: top; padding-top: 23px;\">\n",
    "<img src=\"http://hilpisch.com/tpq_logo_long.png\" width=\"36%\" align=\"right\" style=\"vertical-align: top;\">"
   ]
  },
  {
   "cell_type": "markdown",
   "metadata": {},
   "source": [
    "# Eikon Data API"
   ]
  },
  {
   "cell_type": "markdown",
   "metadata": {},
   "source": [
    "**Calibrating an Options Pricing Model**\n",
    "\n",
    "Dr. Yves J. Hilpisch | The Python Quants GmbH\n",
    "\n",
    "<a href=\"http://tpq.io\" target=\"_blank\">http://tpq.io</a> | <a href=\"http://twitter.com/dyjh\" target=\"_blank\">@dyjh</a> | <a href=\"mailto:training@tpq.io\">training@tpq.io</a>\n",
    "\n",
    "<img src=\"http://hilpisch.com/images/tr_eikon_02.png\" width=350px align=left>"
   ]
  },
  {
   "cell_type": "markdown",
   "metadata": {},
   "source": [
    "## The Agenda"
   ]
  },
  {
   "cell_type": "markdown",
   "metadata": {},
   "source": [
    "This tutorial covers\n",
    "\n",
    "* Retrieving Options Data\n",
    "* Merton (1976) Jump-Diffusion Model\n",
    "* Calibration of the Model"
   ]
  },
  {
   "cell_type": "markdown",
   "metadata": {},
   "source": [
    "## Imports and Versions"
   ]
  },
  {
   "cell_type": "markdown",
   "metadata": {},
   "source": [
    "The following imports several **packages** as used in the following."
   ]
  },
  {
   "cell_type": "code",
   "execution_count": null,
   "metadata": {},
   "outputs": [],
   "source": [
    "import math\n",
    "import eikon as ek  # the Eikon Python wrapper package\n",
    "import numpy as np  # NumPy\n",
    "import pandas as pd  # pandas\n",
    "import cufflinks as cf  # Cufflinks\n",
    "import scipy  # Scientific Python\n",
    "from scipy.integrate import quad  # Numerical Integration\n",
    "import scipy.optimize as spo  # Optimization\n",
    "import configparser as cp\n",
    "cf.set_config_file(offline=True)  # set the plotting mode to offline"
   ]
  },
  {
   "cell_type": "markdown",
   "metadata": {},
   "source": [
    "The following **Python and package versions** are used."
   ]
  },
  {
   "cell_type": "code",
   "execution_count": null,
   "metadata": {},
   "outputs": [],
   "source": [
    "import sys\n",
    "print(sys.version)"
   ]
  },
  {
   "cell_type": "code",
   "execution_count": null,
   "metadata": {},
   "outputs": [],
   "source": [
    "ek.__version__"
   ]
  },
  {
   "cell_type": "code",
   "execution_count": null,
   "metadata": {},
   "outputs": [],
   "source": [
    "np.__version__"
   ]
  },
  {
   "cell_type": "code",
   "execution_count": null,
   "metadata": {},
   "outputs": [],
   "source": [
    "pd.__version__"
   ]
  },
  {
   "cell_type": "code",
   "execution_count": null,
   "metadata": {},
   "outputs": [],
   "source": [
    "cf.__version__"
   ]
  },
  {
   "cell_type": "code",
   "execution_count": null,
   "metadata": {},
   "outputs": [],
   "source": [
    "scipy.__version__"
   ]
  },
  {
   "cell_type": "markdown",
   "metadata": {},
   "source": [
    "## Connecting to Eikon Data API"
   ]
  },
  {
   "cell_type": "markdown",
   "metadata": {},
   "source": [
    "This code sets the `app_id` to connect to the **Eikon Data API Proxy** which needs to be running locally. It requires the previously created text file `eikon.cfg` to be in the current working directory."
   ]
  },
  {
   "cell_type": "code",
   "execution_count": null,
   "metadata": {},
   "outputs": [],
   "source": [
    "cfg = cp.ConfigParser()\n",
    "cfg.read('eikon.cfg')  # adjust for different file location"
   ]
  },
  {
   "cell_type": "code",
   "execution_count": null,
   "metadata": {},
   "outputs": [],
   "source": [
    "ek.set_app_id(cfg['eikon']['app_id'])"
   ]
  },
  {
   "cell_type": "markdown",
   "metadata": {},
   "source": [
    "## Retrieving Options Data"
   ]
  },
  {
   "cell_type": "markdown",
   "metadata": {},
   "source": [
    "### The Raw Data "
   ]
  },
  {
   "cell_type": "markdown",
   "metadata": {},
   "source": [
    "In what follows, data is retrieved that comprises fields for the **option type (put or call), the strike price, the closing price and the implied volatility**."
   ]
  },
  {
   "cell_type": "code",
   "execution_count": null,
   "metadata": {},
   "outputs": [],
   "source": [
    "fields = ['CF_DATE', 'EXPIR_DATE', 'PUTCALLIND', 'STRIKE_PRC', 'CF_CLOSE', 'IMP_VOLT']"
   ]
  },
  {
   "cell_type": "markdown",
   "metadata": {},
   "source": [
    "Using the `ek.get_data()` method, allows data retrieval for a **single maturity of index options and multiple data fields** at the same time."
   ]
  },
  {
   "cell_type": "code",
   "execution_count": null,
   "metadata": {},
   "outputs": [],
   "source": [
    "dax = ek.get_data('0#GDAXM8*.EX', fields=fields)[0]"
   ]
  },
  {
   "cell_type": "code",
   "execution_count": null,
   "metadata": {},
   "outputs": [],
   "source": [
    "len(dax)"
   ]
  },
  {
   "cell_type": "code",
   "execution_count": null,
   "metadata": {},
   "outputs": [],
   "source": [
    "dax.head(15)"
   ]
  },
  {
   "cell_type": "markdown",
   "metadata": {},
   "source": [
    "Let us pick and store the closing value for the index."
   ]
  },
  {
   "cell_type": "code",
   "execution_count": null,
   "metadata": {},
   "outputs": [],
   "source": [
    "GDAXI = dax.iloc[0]['CF_CLOSE']"
   ]
  },
  {
   "cell_type": "code",
   "execution_count": null,
   "metadata": {},
   "outputs": [],
   "source": [
    "GDAXI"
   ]
  },
  {
   "cell_type": "markdown",
   "metadata": {},
   "source": [
    "In the following, we work with **call options** related data only."
   ]
  },
  {
   "cell_type": "code",
   "execution_count": null,
   "metadata": {},
   "outputs": [],
   "source": [
    "calls = dax[dax['PUTCALLIND'] == 'CALL'].copy()"
   ]
  },
  {
   "cell_type": "markdown",
   "metadata": {},
   "source": [
    "Dates delivered as `str` objects need to be transformed to `pd.Timestamp` objects."
   ]
  },
  {
   "cell_type": "code",
   "execution_count": null,
   "metadata": {},
   "outputs": [],
   "source": [
    "for col in ['CF_DATE', 'EXPIR_DATE']:\n",
    "    calls[col] = calls[col].apply(lambda date: pd.Timestamp(date))"
   ]
  },
  {
   "cell_type": "code",
   "execution_count": null,
   "metadata": {},
   "outputs": [],
   "source": [
    "calls.info()"
   ]
  },
  {
   "cell_type": "markdown",
   "metadata": {},
   "source": [
    "It might make sense, to restrict the options data to those options that are not too far in or out of the money."
   ]
  },
  {
   "cell_type": "code",
   "execution_count": null,
   "metadata": {},
   "outputs": [],
   "source": [
    "limit = 500"
   ]
  },
  {
   "cell_type": "code",
   "execution_count": null,
   "metadata": {},
   "outputs": [],
   "source": [
    "calls = calls[abs(calls['STRIKE_PRC'] - GDAXI) < limit]"
   ]
  },
  {
   "cell_type": "code",
   "execution_count": null,
   "metadata": {},
   "outputs": [],
   "source": [
    "calls.info()"
   ]
  },
  {
   "cell_type": "markdown",
   "metadata": {},
   "source": [
    "The **options chain sub set** relevant for the model calibration to follow."
   ]
  },
  {
   "cell_type": "code",
   "execution_count": null,
   "metadata": {},
   "outputs": [],
   "source": [
    "calls"
   ]
  },
  {
   "cell_type": "markdown",
   "metadata": {},
   "source": [
    "### The Data Visualized"
   ]
  },
  {
   "cell_type": "markdown",
   "metadata": {},
   "source": [
    "The separation allows for easily **visualization** of the closing prices and the implied volatilities."
   ]
  },
  {
   "cell_type": "code",
   "execution_count": null,
   "metadata": {},
   "outputs": [],
   "source": [
    "calls.set_index('STRIKE_PRC')[['CF_CLOSE', 'IMP_VOLT']].iplot(subplots=True,\n",
    "                                                             mode='lines+markers',\n",
    "                                                            symbol='dot', size=6)"
   ]
  },
  {
   "cell_type": "markdown",
   "metadata": {
    "slideshow": {
     "slide_type": "slide"
    }
   },
   "source": [
    "## Merton (1976) Jump-Diffusion Model"
   ]
  },
  {
   "cell_type": "markdown",
   "metadata": {
    "slideshow": {
     "slide_type": "subslide"
    }
   },
   "source": [
    "In the Merton (1976) jump-diffusion model, the **risk-neutral index level dynamics** are given by the SDE\n",
    "\n",
    "$$\n",
    "dS_{t}=(r-r_{J})S_{t}dt+\\sigma S_{t}dZ_{t}+J_{t}S_{t}dN_{t}\n",
    "$$\n",
    "\n",
    "The variables and parameters have the following meaning:\n",
    "\n",
    "* $S_{t}$ index level at date $t$\n",
    "* $r$ constant risk-less short rate \n",
    "* $r_{J}\\equiv \\lambda \\cdot \\left(e^{\\mu_{J}+\\delta^{2}/2}-1\\right)$ drift correction for jump\n",
    "* $\\sigma$ constant volatility of $S$\n",
    "* $Z_{t}$ standard Brownian motion\n",
    "* $J_{t}$ jump at date $t$ with distribution $\\log(1+J_{t}) \\approx \\mathbf{N}\\left(\\log(1+\\mu_{J})-\\frac{\\delta^{2}}{2},\\delta^{2}\\right)$\n",
    "* $\\mathbf{N}$ as the cumulative distribution function of a standard normal random variable\n",
    "* $N_{t}$ Poisson process with intensity $\\lambda$\n",
    "\n",
    "For details, refer to **Hilpisch, Yves (2015): _Derivatives Analytics with Python._ Wiley Finance.**"
   ]
  },
  {
   "cell_type": "markdown",
   "metadata": {
    "slideshow": {
     "slide_type": "subslide"
    }
   },
   "source": [
    "The **characteristic function for the Merton (1976) model** is given as:\n",
    "\n",
    "$$\n",
    "\\varphi_{0}^{M76}(u,T)=\\exp\\left(\\left(iu\\omega -\\frac{u^{2}\\sigma^{2}}{2}+\\lambda \\left(e^{iu\\mu_{J}-u^{2}\\delta^{2}/2}-1\\right)\\right)T\\right)\n",
    "$$\n",
    "\n",
    "where the **risk-neutral drift term $\\omega$** takes on the form\n",
    "\n",
    "$$\n",
    "\\omega=r-\\frac{\\sigma^{2}}{2}-\\lambda\\left(e^{\\mu_{J}+\\delta^{2}/2}-1\\right)\n",
    "$$"
   ]
  },
  {
   "cell_type": "markdown",
   "metadata": {
    "slideshow": {
     "slide_type": "subslide"
    }
   },
   "source": [
    "Combining this with the option pricing result from Lewis (2001) we get for the **price of a European call option**\n",
    "\n",
    "$$\n",
    "C_{0}=S_{0}-\\frac{\\sqrt{S_{0}K}e^{-rT/2}}{\\pi}\\int_{0}^{\\infty} \\mathbf{Re}\\left[e^{izk} \\varphi_{0}^{M76}(z-i/2,T)\\right] \\frac{dz}{z^2+1/4}\n",
    "$$"
   ]
  },
  {
   "cell_type": "markdown",
   "metadata": {
    "slideshow": {
     "slide_type": "subslide"
    }
   },
   "source": [
    "Let us implement the **European call option pricing formula** in Python. First, the **characteristic function**."
   ]
  },
  {
   "cell_type": "code",
   "execution_count": null,
   "metadata": {},
   "outputs": [],
   "source": [
    "def M76_characteristic_function(u, T, r, sigma, lamb, mu, delta):\n",
    "    omega = r - 0.5 * sigma ** 2 - lamb * (np.exp(mu + 0.5 * delta ** 2) - 1)\n",
    "    value = np.exp((1j * u * omega - 0.5 * u ** 2 * sigma ** 2 +\n",
    "            lamb * (np.exp(1j * u * mu - u ** 2 * delta ** 2 * 0.5) - 1))  * T)\n",
    "    return value"
   ]
  },
  {
   "cell_type": "markdown",
   "metadata": {
    "slideshow": {
     "slide_type": "subslide"
    }
   },
   "source": [
    "Second, the **integration function**."
   ]
  },
  {
   "cell_type": "code",
   "execution_count": null,
   "metadata": {},
   "outputs": [],
   "source": [
    "def M76_integration_function(u, S0, K, T, r, sigma, lamb, mu, delta):\n",
    "    JDCF = M76_characteristic_function(u - 0.5 * 1j, T, r,\n",
    "                                       sigma, lamb, mu, delta)\n",
    "    value = 1 / (u ** 2 + 0.25) * (np.exp(1j * u * math.log(S0 / K))\n",
    "                                    * JDCF).real\n",
    "    return value"
   ]
  },
  {
   "cell_type": "markdown",
   "metadata": {
    "slideshow": {
     "slide_type": "subslide"
    }
   },
   "source": [
    "Third, the **evaluation of the integral** via numerical quadrature."
   ]
  },
  {
   "cell_type": "code",
   "execution_count": null,
   "metadata": {},
   "outputs": [],
   "source": [
    "def M76_value_call_INT(S0, K, T, r, sigma, lamb, mu, delta):\n",
    "    int_value = quad(lambda u: M76_integration_function(u, S0, K, T, r,\n",
    "                    sigma, lamb, mu, delta), 0, 50, limit=250)[0]\n",
    "    call_value = S0 - np.exp(-r * T) * math.sqrt(S0 * K) / math.pi * int_value\n",
    "    return call_value"
   ]
  },
  {
   "cell_type": "markdown",
   "metadata": {
    "slideshow": {
     "slide_type": "subslide"
    }
   },
   "source": [
    "Fourth, a **numerical example**."
   ]
  },
  {
   "cell_type": "code",
   "execution_count": null,
   "metadata": {},
   "outputs": [],
   "source": [
    "K = GDAXI  # strike level = index level\n",
    "T = 1.0  # call option maturity\n",
    "r = 0.005  # constant short rate\n",
    "sigma = 0.4  # constant volatility of diffusion\n",
    "lamb = 1.0  # jump frequency p.a.\n",
    "mu = -0.2  # expected jump size\n",
    "delta = 0.1  # jump size volatility"
   ]
  },
  {
   "cell_type": "code",
   "execution_count": null,
   "metadata": {},
   "outputs": [],
   "source": [
    "print ('Value of Call Option %8.3f' \\\n",
    "            % M76_value_call_INT(GDAXI, K, T, r, sigma, lamb, mu, delta))"
   ]
  },
  {
   "cell_type": "markdown",
   "metadata": {
    "slideshow": {
     "slide_type": "slide"
    }
   },
   "source": [
    "## Calibration of the Model"
   ]
  },
  {
   "cell_type": "markdown",
   "metadata": {
    "slideshow": {
     "slide_type": "subslide"
    }
   },
   "source": [
    "In simple terms, the problem of **calibration** is to find parameters for the Merton (1976) model such that observed market quotes of liquidly traded plain vanilla options are replicated as good as possible. To this end, one defines an error function that is to be minimized. Such a function could be the Root Mean Squared Error (RMSE). The task is then to solve the problem\n",
    "\n",
    "$$\n",
    "\\min_{\\sigma, \\lambda, \\mu_{J}, \\delta } \\sqrt{\\frac{1}{N}\\sum_{n=1}^{N}\\left( C_{n}^{*} - C_{n}^{M76}(\\sigma, \\lambda, \\mu_{J}, \\delta )\\right)^{2}}\n",
    "$$\n",
    "with the $C_{n}^{*}$ being the market or input prices and the $C_{n}^{M76}$ being the model or output prices for the options $n=1,...,N$."
   ]
  },
  {
   "cell_type": "markdown",
   "metadata": {
    "slideshow": {
     "slide_type": "subslide"
    }
   },
   "source": [
    "Next, we define an **error function** in Python for the calibration. "
   ]
  },
  {
   "cell_type": "code",
   "execution_count": null,
   "metadata": {},
   "outputs": [],
   "source": [
    "i = 0; min_RMSE = 100.\n",
    "def M76_error_function(p0):\n",
    "    global i, min_RMSE\n",
    "    sigma, lamb, mu, delta = p0\n",
    "    if sigma < 0.0 or delta < 0.0 or lamb < 0.0:\n",
    "        return 500.0\n",
    "    se = []\n",
    "    for row, option in calls.iterrows():\n",
    "        T = (option['EXPIR_DATE'] - option['CF_DATE']).days / 365.\n",
    "        model_value = M76_value_call_INT(GDAXI, option['STRIKE_PRC'], T,\n",
    "                                         r, sigma, lamb, mu, delta)\n",
    "        se.append((model_value - option['CF_CLOSE']) ** 2)\n",
    "    RMSE = math.sqrt(sum(se) / len(se))\n",
    "    min_RMSE = min(min_RMSE, RMSE)\n",
    "    if i % 100 == 0:\n",
    "        print ('%4d |' % i, np.array(p0), '| %7.3f | %7.3f' % (RMSE, min_RMSE))\n",
    "    i += 1\n",
    "    return RMSE"
   ]
  },
  {
   "cell_type": "markdown",
   "metadata": {
    "slideshow": {
     "slide_type": "subslide"
    }
   },
   "source": [
    "The calibration is done in two steps. First, a **global optimization**."
   ]
  },
  {
   "cell_type": "code",
   "execution_count": null,
   "metadata": {},
   "outputs": [],
   "source": [
    "%%time\n",
    "import scipy.optimize as sop\n",
    "np.set_printoptions(suppress=True,\n",
    "                    formatter={'all': lambda x: '%6.3f' % x})\n",
    "p0 = sop.brute(M76_error_function, ((0.10, 0.201, 0.025),\n",
    "                   (0.10, 0.81, 0.20), (-0.40, 0.01, 0.10),\n",
    "                   (0.00, 0.126, 0.025)), finish=None)"
   ]
  },
  {
   "cell_type": "markdown",
   "metadata": {
    "slideshow": {
     "slide_type": "subslide"
    }
   },
   "source": [
    "Second, the **local (convex) optimization**."
   ]
  },
  {
   "cell_type": "code",
   "execution_count": null,
   "metadata": {},
   "outputs": [],
   "source": [
    "%%time\n",
    "opt = sop.fmin(M76_error_function, p0, xtol=0.00001,\n",
    "                    ftol=0.00001, maxiter=750, maxfun=1500)"
   ]
  },
  {
   "cell_type": "markdown",
   "metadata": {
    "slideshow": {
     "slide_type": "subslide"
    }
   },
   "source": [
    "Given the **optimal parameters**, the model prices after calibration can be calculated."
   ]
  },
  {
   "cell_type": "code",
   "execution_count": null,
   "metadata": {},
   "outputs": [],
   "source": [
    "sigma, lamb, mu, delta = opt\n",
    "calls['MODEL_PRICE'] = 0.0\n",
    "for row, option in calls.iterrows():\n",
    "    T = (option['EXPIR_DATE'] - option['CF_DATE']).days / 365.\n",
    "    calls.loc[row, 'MODEL_PRICE'] = M76_value_call_INT(GDAXI, option['STRIKE_PRC'],\n",
    "                                T, r, sigma, lamb, mu, delta)"
   ]
  },
  {
   "cell_type": "code",
   "execution_count": null,
   "metadata": {},
   "outputs": [],
   "source": [
    "calls"
   ]
  },
  {
   "cell_type": "markdown",
   "metadata": {},
   "source": [
    "The calibration yields **model prices** not \"too different\" from the market prices."
   ]
  },
  {
   "cell_type": "code",
   "execution_count": null,
   "metadata": {},
   "outputs": [],
   "source": [
    "calls[['CF_CLOSE', 'MODEL_PRICE']].iplot(mode='lines+markers', size=6.0)"
   ]
  },
  {
   "cell_type": "markdown",
   "metadata": {},
   "source": [
    "The following calculates and visualizes the **absolute and relative pricing errors in percent**."
   ]
  },
  {
   "cell_type": "code",
   "execution_count": null,
   "metadata": {},
   "outputs": [],
   "source": [
    "diffs = calls['MODEL_PRICE'] - calls['CF_CLOSE']"
   ]
  },
  {
   "cell_type": "code",
   "execution_count": null,
   "metadata": {},
   "outputs": [],
   "source": [
    "diffs.iplot(kind='bar', yTitle='pricing errors [EUR]')"
   ]
  },
  {
   "cell_type": "code",
   "execution_count": null,
   "metadata": {},
   "outputs": [],
   "source": [
    "rdiffs = (calls['MODEL_PRICE'] - calls['CF_CLOSE']) / calls['CF_CLOSE'] * 100"
   ]
  },
  {
   "cell_type": "code",
   "execution_count": null,
   "metadata": {},
   "outputs": [],
   "source": [
    "rdiffs.iplot(kind='bar', yTitle='pricing errors [%]')"
   ]
  },
  {
   "cell_type": "markdown",
   "metadata": {},
   "source": [
    "## Conclusions"
   ]
  },
  {
   "cell_type": "markdown",
   "metadata": {},
   "source": [
    "This tutorial covers:\n",
    "\n",
    "* Retrieving Options Data\n",
    "* Merton (1976) Jump-Diffusion Model\n",
    "* Calibration of the Model"
   ]
  },
  {
   "cell_type": "markdown",
   "metadata": {},
   "source": [
    "## References"
   ]
  },
  {
   "cell_type": "markdown",
   "metadata": {},
   "source": [
    "For financial, numerical and programming details with regard to option pricing models and their calibration in Python, refer to:\n",
    "\n",
    "* Hilpisch, Yves (2015): _Derivatives Analytics with Python._ Wiley Finance."
   ]
  },
  {
   "cell_type": "markdown",
   "metadata": {},
   "source": [
    "## Eikon Data API Developer Resources"
   ]
  },
  {
   "cell_type": "markdown",
   "metadata": {},
   "source": [
    "* [Overview](https://developers.thomsonreuters.com/eikon-data-apis) \n",
    "* [Quick Start ](https://developers.thomsonreuters.com/eikon-data-apis/quick-start)\n",
    "* [Documentation](https://developers.thomsonreuters.com/eikon-data-apis/docs)\n",
    "* [Downloads](https://developers.thomsonreuters.com/eikon-data-apis/downloads)\n",
    "* [Tutorials](https://developers.thomsonreuters.com/eikon-data-apis/learning)\n",
    "* [Q&A Forums](https://developers.thomsonreuters.com/eikon-data-apis/qa) \n",
    "\n",
    "Data Item Browser Application: Type `DIB` into Eikon Search Bar.\n",
    "\n",
    "* [Article on Chains](https://developers.thomsonreuters.com/article/simple-chain-objects-ema-part-1)"
   ]
  },
  {
   "cell_type": "markdown",
   "metadata": {},
   "source": [
    "<img src=\"http://hilpisch.com/images/tr_logo_long.png\" width=\"40%\" align=\"left\" style=\"vertical-align: top; padding-top: 23px;\">\n",
    "<img src=\"http://hilpisch.com/tpq_logo_long.png\" width=\"36%\" align=\"right\" style=\"vertical-align: top;\">"
   ]
  }
 ],
 "metadata": {
  "kernelspec": {
   "display_name": "Python 3",
   "language": "python",
   "name": "python3"
  },
  "language_info": {
   "codemirror_mode": {
    "name": "ipython",
    "version": 3
   },
   "file_extension": ".py",
   "mimetype": "text/x-python",
   "name": "python",
   "nbconvert_exporter": "python",
   "pygments_lexer": "ipython3",
   "version": "3.6.4"
  }
 },
 "nbformat": 4,
 "nbformat_minor": 2
}
